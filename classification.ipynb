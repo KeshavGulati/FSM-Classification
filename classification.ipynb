{
 "cells": [
  {
   "attachments": {},
   "cell_type": "markdown",
   "metadata": {},
   "source": [
    "# Supervised Learning- Classification"
   ]
  },
  {
   "cell_type": "code",
   "execution_count": 44,
   "metadata": {},
   "outputs": [],
   "source": [
    "# Imports\n",
    "import pandas as pd\n",
    "import numpy as np\n",
    "import matplotlib.pyplot as plt\n",
    "import seaborn as sns\n",
    "import sys\n",
    "from scipy.stats import mode\n",
    "from sklearn.model_selection import train_test_split"
   ]
  },
  {
   "attachments": {},
   "cell_type": "markdown",
   "metadata": {},
   "source": [
    "## Naive Bayes"
   ]
  },
  {
   "attachments": {},
   "cell_type": "markdown",
   "metadata": {},
   "source": [
    "### Overview"
   ]
  },
  {
   "attachments": {},
   "cell_type": "markdown",
   "metadata": {},
   "source": [
    "We implement Naive Bayes by following Bayes theorem.\n",
    "<br>\n",
    "Bayes Theorem:\n",
    "$$\n",
    "    P(A/B) = {P(B/A) * P(A) \\over P(B)}\n",
    "$$\n",
    "Here,<br>\n",
    "$A$ => The target variable <br>\n",
    "$B$ => The attributes <br>\n",
    "So, the theorem effectively becomes\n",
    "<br>\n",
    "$$\n",
    "    P(y/x_1, x_2, ...x_n) = {P(x_1/y)P(x_2/y)...P(x_n/y)*P(y) \\over P(x_1)P(x_2)...P(x_n)}\n",
    "$$\n",
    "But since we only need to compare the probability values for the target variables, we can ignore the denominator, and so the final equation is:<br>\n",
    "$$\n",
    "    P(y/x_1, x_2, ...x_n) = {P(x_1/y)P(x_2/y)...P(x_n/y)*P(y)}\n",
    "$$\n",
    "After finding the probablity of each target variable given all the attributes, we will normalize them to 1, and then compare both."
   ]
  },
  {
   "attachments": {},
   "cell_type": "markdown",
   "metadata": {},
   "source": [
    "### Implementation"
   ]
  },
  {
   "cell_type": "code",
   "execution_count": 3,
   "metadata": {},
   "outputs": [],
   "source": [
    "class NaiveBayesClassifier:\n",
    "    \"\"\"\n",
    "    A classification algorithm that uses the Bayes Theorem to make predictions.\n",
    "    Assumes independence among predictors, and is paramterized.\n",
    "    \"\"\"\n",
    "\n",
    "    def __init__ (self):\n",
    "        \"\"\"\n",
    "        Constructor does not take any arguments and initializes instance variables.\n",
    "        # Instance Variables\n",
    "        \n",
    "        target_probabilities -> Stores individual probabilities of all unique targets\n",
    "        attr_probabilities -> Stores conditional probabilities of all unique attributes given unique targets.\n",
    "        predictions -> Stores the predictions in a list\n",
    "        \"\"\"\n",
    "        self.target_probabilities = {}\n",
    "        self.attr_probabilities = {}\n",
    "    \n",
    "    def fit(self, x_train, y_train):\n",
    "        \"\"\"\n",
    "        This method trains the algorithm on the provided training data.\n",
    "        It works by extracting information and organizing it in a way such that it is most convenient to use necessary features to apply\n",
    "        Bayes Theorem. It calculates the probability of all target values, and the conditional probability of all attributes given a target\n",
    "        value for each target value. These can then be used by the predict method for computation.\n",
    "\n",
    "        # Parameters\n",
    "\n",
    "        x_train: Data of all attributes to be trained on\n",
    "        y_train: Data of label\n",
    "        \"\"\"\n",
    "        df = x_train.copy()\n",
    "        df['target'] = y_train\n",
    "        target_count = y_train.value_counts().to_dict()\n",
    "        for target, count in target_count.items():\n",
    "            self.target_probabilities[target] = count / y_train.size\n",
    "        \n",
    "        for column in x_train.columns:\n",
    "            attr_unique = x_train[column].unique()\n",
    "            for attr in attr_unique:\n",
    "                self.attr_probabilities[(column, attr)] = {}\n",
    "                for target in self.target_probabilities.keys():\n",
    "                    temp_df = df[df[column] == attr]\n",
    "                    temp_df = temp_df[temp_df['target'] == target]\n",
    "                    self.attr_probabilities[(column, attr)][target] = len(temp_df.index) / target_count[target]\n",
    "\n",
    "    def predict(self, x_test):\n",
    "        \"\"\"\n",
    "        This method predicts labels by using Bayes Theorem. It uses information condensed by the fit method, in particular the probabilities of all\n",
    "        target values, and the conditional probabilities of all attributes given a target value, for each target value.\n",
    "\n",
    "        # Parameters\n",
    "        \n",
    "        x_test: Data of attributes for which target is to be predicted\n",
    "        \"\"\"\n",
    "        predictions = []\n",
    "        target_test_prob = {}\n",
    "        mult = 1.0\n",
    "        for index, row in x_test.iterrows():\n",
    "            for target in self.target_probabilities:\n",
    "                mult = 1.0\n",
    "                for column in x_test.columns:\n",
    "                    attr = row[column]\n",
    "                    if (column, attr) in self.attr_probabilities:\n",
    "                        if self.attr_probabilities[(column, attr)][target] == 0:\n",
    "                            # if the probability of a particular attribute is 0, then it could mean that\n",
    "                            # we either have not enough data, or the ground truth is absolutely 0. In any case,\n",
    "                            # assigning a very low probability of 0.0001 should tackle both of these situations.\n",
    "                            mult *= 0.0001\n",
    "                        else:\n",
    "                            mult *= self.attr_probabilities[(column, attr)][target]\n",
    "\n",
    "                mult *= self.target_probabilities[target]\n",
    "                target_test_prob[target] = mult\n",
    "            # Normalize\n",
    "            target_total_prob = sum(list(target_test_prob.values()))\n",
    "            for target in target_test_prob:\n",
    "                target_test_prob[target] = target_test_prob[target] / target_total_prob\n",
    "            # Add to predictions\n",
    "            predictions.append(max(target_test_prob, key = lambda x: target_test_prob[x]))\n",
    "        self.predictions = predictions\n",
    "    \n",
    "    def accuracy(self, y_test):\n",
    "        \"\"\"Gives the accuracy of the predictions\"\"\"\n",
    "        return np.sum(self.predictions == y_test) / len(y_test)"
   ]
  },
  {
   "attachments": {},
   "cell_type": "markdown",
   "metadata": {},
   "source": [
    "## K-Nearest Neighbor"
   ]
  },
  {
   "attachments": {},
   "cell_type": "markdown",
   "metadata": {},
   "source": [
    "### Overview"
   ]
  },
  {
   "attachments": {},
   "cell_type": "markdown",
   "metadata": {},
   "source": [
    "K-Nearest Neghbors (KNN) is a machine learning classification algorithm. It assumes that similar things exist in close proximity. In other words, the class of a new point is determined by majority of 'k' nearest points. This algorithm is known as a 'lazy' algorithm, because it does do any calculations in its training phase, instead just stores the dataset. The algorithm is non-parametrized as it does not make any assumptions about the data."
   ]
  },
  {
   "attachments": {},
   "cell_type": "markdown",
   "metadata": {},
   "source": [
    "### Implementation"
   ]
  },
  {
   "cell_type": "code",
   "execution_count": 4,
   "metadata": {},
   "outputs": [],
   "source": [
    "def e_distance(x1, x2):\n",
    "    try:\n",
    "        return np.sqrt(np.sum((x1 - x2)**2))\n",
    "    except TypeError:\n",
    "        print(f\"x1 = {x1}\\nx2 = {x2}\")\n",
    "        sys.exit()"
   ]
  },
  {
   "cell_type": "code",
   "execution_count": 40,
   "metadata": {},
   "outputs": [],
   "source": [
    "class knnClassifier:\n",
    "    \n",
    "    def __init__(self, k = 3):\n",
    "        self.k = k\n",
    "\n",
    "    def fit(self, x_train, y_train):\n",
    "        self.x_train = x_train\n",
    "        self.y_train = y_train\n",
    "\n",
    "    def predict(self, x_test):\n",
    "        \"\"\"This method makes predictions based on k nearest neighbors.\"\"\"\n",
    "        y_pred = []\n",
    "        for point in x_test.to_numpy():\n",
    "            distances = []\n",
    "            for i in range(len(self.x_train)):\n",
    "                distances.append(e_distance(np.array(self.x_train.iloc[i]), point))\n",
    "            distance_data = pd.DataFrame(data = distances, columns = ['distance'], index = self.y_train.index)\n",
    "            k_neighbors = distance_data.sort_values(by=['distance'], axis=0)[:self.k]\n",
    "            labels = self.y_train.loc[k_neighbors.index]\n",
    "            voting = mode(labels).mode[0]\n",
    "            y_pred.append(voting)\n",
    "        \n",
    "        self.predictions = y_pred\n",
    "        return y_pred\n",
    "\n",
    "    def accuracy(self, y_test):\n",
    "        \"\"\"Gives the accuracy of the predictions\"\"\"\n",
    "        return np.sum(self.predictions == y_test) / len(y_test)\n",
    "            "
   ]
  },
  {
   "attachments": {},
   "cell_type": "markdown",
   "metadata": {},
   "source": [
    "## Titanic Exercise"
   ]
  },
  {
   "cell_type": "code",
   "execution_count": 6,
   "metadata": {},
   "outputs": [
    {
     "data": {
      "text/html": [
       "<div>\n",
       "<style scoped>\n",
       "    .dataframe tbody tr th:only-of-type {\n",
       "        vertical-align: middle;\n",
       "    }\n",
       "\n",
       "    .dataframe tbody tr th {\n",
       "        vertical-align: top;\n",
       "    }\n",
       "\n",
       "    .dataframe thead th {\n",
       "        text-align: right;\n",
       "    }\n",
       "</style>\n",
       "<table border=\"1\" class=\"dataframe\">\n",
       "  <thead>\n",
       "    <tr style=\"text-align: right;\">\n",
       "      <th></th>\n",
       "      <th>PassengerId</th>\n",
       "      <th>Survived</th>\n",
       "      <th>Pclass</th>\n",
       "      <th>Name</th>\n",
       "      <th>Sex</th>\n",
       "      <th>Age</th>\n",
       "      <th>SibSp</th>\n",
       "      <th>Parch</th>\n",
       "      <th>Ticket</th>\n",
       "      <th>Fare</th>\n",
       "      <th>Cabin</th>\n",
       "      <th>Embarked</th>\n",
       "    </tr>\n",
       "  </thead>\n",
       "  <tbody>\n",
       "    <tr>\n",
       "      <th>0</th>\n",
       "      <td>1</td>\n",
       "      <td>0</td>\n",
       "      <td>3</td>\n",
       "      <td>Braund, Mr. Owen Harris</td>\n",
       "      <td>male</td>\n",
       "      <td>22.0</td>\n",
       "      <td>1</td>\n",
       "      <td>0</td>\n",
       "      <td>A/5 21171</td>\n",
       "      <td>7.2500</td>\n",
       "      <td>NaN</td>\n",
       "      <td>S</td>\n",
       "    </tr>\n",
       "    <tr>\n",
       "      <th>1</th>\n",
       "      <td>2</td>\n",
       "      <td>1</td>\n",
       "      <td>1</td>\n",
       "      <td>Cumings, Mrs. John Bradley (Florence Briggs Th...</td>\n",
       "      <td>female</td>\n",
       "      <td>38.0</td>\n",
       "      <td>1</td>\n",
       "      <td>0</td>\n",
       "      <td>PC 17599</td>\n",
       "      <td>71.2833</td>\n",
       "      <td>C85</td>\n",
       "      <td>C</td>\n",
       "    </tr>\n",
       "    <tr>\n",
       "      <th>2</th>\n",
       "      <td>3</td>\n",
       "      <td>1</td>\n",
       "      <td>3</td>\n",
       "      <td>Heikkinen, Miss. Laina</td>\n",
       "      <td>female</td>\n",
       "      <td>26.0</td>\n",
       "      <td>0</td>\n",
       "      <td>0</td>\n",
       "      <td>STON/O2. 3101282</td>\n",
       "      <td>7.9250</td>\n",
       "      <td>NaN</td>\n",
       "      <td>S</td>\n",
       "    </tr>\n",
       "    <tr>\n",
       "      <th>3</th>\n",
       "      <td>4</td>\n",
       "      <td>1</td>\n",
       "      <td>1</td>\n",
       "      <td>Futrelle, Mrs. Jacques Heath (Lily May Peel)</td>\n",
       "      <td>female</td>\n",
       "      <td>35.0</td>\n",
       "      <td>1</td>\n",
       "      <td>0</td>\n",
       "      <td>113803</td>\n",
       "      <td>53.1000</td>\n",
       "      <td>C123</td>\n",
       "      <td>S</td>\n",
       "    </tr>\n",
       "    <tr>\n",
       "      <th>4</th>\n",
       "      <td>5</td>\n",
       "      <td>0</td>\n",
       "      <td>3</td>\n",
       "      <td>Allen, Mr. William Henry</td>\n",
       "      <td>male</td>\n",
       "      <td>35.0</td>\n",
       "      <td>0</td>\n",
       "      <td>0</td>\n",
       "      <td>373450</td>\n",
       "      <td>8.0500</td>\n",
       "      <td>NaN</td>\n",
       "      <td>S</td>\n",
       "    </tr>\n",
       "  </tbody>\n",
       "</table>\n",
       "</div>"
      ],
      "text/plain": [
       "   PassengerId  Survived  Pclass  \\\n",
       "0            1         0       3   \n",
       "1            2         1       1   \n",
       "2            3         1       3   \n",
       "3            4         1       1   \n",
       "4            5         0       3   \n",
       "\n",
       "                                                Name     Sex   Age  SibSp  \\\n",
       "0                            Braund, Mr. Owen Harris    male  22.0      1   \n",
       "1  Cumings, Mrs. John Bradley (Florence Briggs Th...  female  38.0      1   \n",
       "2                             Heikkinen, Miss. Laina  female  26.0      0   \n",
       "3       Futrelle, Mrs. Jacques Heath (Lily May Peel)  female  35.0      1   \n",
       "4                           Allen, Mr. William Henry    male  35.0      0   \n",
       "\n",
       "   Parch            Ticket     Fare Cabin Embarked  \n",
       "0      0         A/5 21171   7.2500   NaN        S  \n",
       "1      0          PC 17599  71.2833   C85        C  \n",
       "2      0  STON/O2. 3101282   7.9250   NaN        S  \n",
       "3      0            113803  53.1000  C123        S  \n",
       "4      0            373450   8.0500   NaN        S  "
      ]
     },
     "execution_count": 6,
     "metadata": {},
     "output_type": "execute_result"
    }
   ],
   "source": [
    "df = pd.read_csv('./titanic/train.csv')\n",
    "df_test = pd.read_csv('./titanic/test.csv')\n",
    "df.head()"
   ]
  },
  {
   "attachments": {},
   "cell_type": "markdown",
   "metadata": {},
   "source": [
    "### Data Preprocessing"
   ]
  },
  {
   "attachments": {},
   "cell_type": "markdown",
   "metadata": {},
   "source": [
    "Firstly, we can notice that a person's name, and ticket should not have any relationship to whether someone survived or not. Therefore, these attributes will not be of any use going further."
   ]
  },
  {
   "attachments": {},
   "cell_type": "markdown",
   "metadata": {},
   "source": [
    "Now, we can try and see any correlation between all attributes that have numeric, or ordinal values."
   ]
  },
  {
   "cell_type": "code",
   "execution_count": 7,
   "metadata": {},
   "outputs": [],
   "source": [
    "num_ord_df = df.drop(['Name', 'Sex', 'Ticket', 'Cabin', 'Embarked'], axis=1)"
   ]
  },
  {
   "cell_type": "code",
   "execution_count": 8,
   "metadata": {},
   "outputs": [
    {
     "name": "stdout",
     "output_type": "stream",
     "text": [
      "PassengerId   -0.005007\n",
      "Survived       1.000000\n",
      "Pclass        -0.338481\n",
      "Age           -0.077221\n",
      "SibSp         -0.035322\n",
      "Parch          0.081629\n",
      "Fare           0.257307\n",
      "Name: Survived, dtype: float64\n"
     ]
    }
   ],
   "source": [
    "corr_matrix = num_ord_df.corr()\n",
    "print(corr_matrix['Survived'])"
   ]
  },
  {
   "cell_type": "code",
   "execution_count": 9,
   "metadata": {},
   "outputs": [
    {
     "data": {
      "image/png": "[encoded data removed]",
      "text/plain": [
       "<Figure size 1700x800 with 2 Axes>"
      ]
     },
     "metadata": {},
     "output_type": "display_data"
    }
   ],
   "source": [
    "plt.figure(figsize=(17, 8))\n",
    "sns.heatmap(corr_matrix, annot=True)\n",
    "plt.show()"
   ]
  },
  {
   "attachments": {},
   "cell_type": "markdown",
   "metadata": {},
   "source": [
    "We will arbitrarily choose 5% as the minimum correlation percentage to consider an attribute. So, the only numerical/ordinal attributes that we need to consider are Pclass, Age, Parch, and Fare."
   ]
  },
  {
   "attachments": {},
   "cell_type": "markdown",
   "metadata": {},
   "source": [
    "Now, we can try and see any correlation between categorical attributes and whether a person survived or not."
   ]
  },
  {
   "cell_type": "code",
   "execution_count": 10,
   "metadata": {},
   "outputs": [
    {
     "data": {
      "image/png": "[encoded data removed]",
      "text/plain": [
       "<Figure size 640x480 with 1 Axes>"
      ]
     },
     "metadata": {},
     "output_type": "display_data"
    }
   ],
   "source": [
    "male_female_count_df = df['Sex'].value_counts().reset_index()\n",
    "male_count = male_female_count_df['count'].loc[male_female_count_df['Sex'] == 'male']\n",
    "female_count = male_female_count_df['count'].loc[male_female_count_df['Sex'] == 'female']\n",
    "male_survived = len(df.loc[(df['Sex'] == 'male') & (df['Survived'] == 1)].index) / male_count\n",
    "female_survived = len(df.loc[(df['Sex'] == 'female') & (df['Survived'] == 1)].index) / female_count\n",
    "plt.hist([male_survived, female_survived], label=['male', 'female']);\n",
    "plt.legend()\n",
    "plt.show();"
   ]
  },
  {
   "attachments": {},
   "cell_type": "markdown",
   "metadata": {},
   "source": [
    "Here, we see that there is a high discrepancy between survival of man as compared to a woman. Therefore, 'Sex' will be useful attribute going forward."
   ]
  },
  {
   "cell_type": "code",
   "execution_count": 11,
   "metadata": {},
   "outputs": [
    {
     "data": {
      "text/html": [
       "<div>\n",
       "<style scoped>\n",
       "    .dataframe tbody tr th:only-of-type {\n",
       "        vertical-align: middle;\n",
       "    }\n",
       "\n",
       "    .dataframe tbody tr th {\n",
       "        vertical-align: top;\n",
       "    }\n",
       "\n",
       "    .dataframe thead th {\n",
       "        text-align: right;\n",
       "    }\n",
       "</style>\n",
       "<table border=\"1\" class=\"dataframe\">\n",
       "  <thead>\n",
       "    <tr style=\"text-align: right;\">\n",
       "      <th></th>\n",
       "      <th>Embarked</th>\n",
       "      <th>count</th>\n",
       "    </tr>\n",
       "  </thead>\n",
       "  <tbody>\n",
       "    <tr>\n",
       "      <th>0</th>\n",
       "      <td>S</td>\n",
       "      <td>644</td>\n",
       "    </tr>\n",
       "    <tr>\n",
       "      <th>1</th>\n",
       "      <td>C</td>\n",
       "      <td>168</td>\n",
       "    </tr>\n",
       "    <tr>\n",
       "      <th>2</th>\n",
       "      <td>Q</td>\n",
       "      <td>77</td>\n",
       "    </tr>\n",
       "  </tbody>\n",
       "</table>\n",
       "</div>"
      ],
      "text/plain": [
       "  Embarked  count\n",
       "0        S    644\n",
       "1        C    168\n",
       "2        Q     77"
      ]
     },
     "execution_count": 11,
     "metadata": {},
     "output_type": "execute_result"
    }
   ],
   "source": [
    "embarked_count_df = df['Embarked'].value_counts().reset_index()\n",
    "embarked_count_df.head()"
   ]
  },
  {
   "attachments": {},
   "cell_type": "markdown",
   "metadata": {},
   "source": [
    "#### Dropping irrelevant columns"
   ]
  },
  {
   "attachments": {},
   "cell_type": "markdown",
   "metadata": {},
   "source": [
    "As determined above, we can drop the columns 'Name', 'Ticket', 'PassengerId', and 'SibSp.'"
   ]
  },
  {
   "cell_type": "code",
   "execution_count": 12,
   "metadata": {},
   "outputs": [],
   "source": [
    "df.drop(['Name', 'Ticket', 'PassengerId', 'SibSp'], axis=1, inplace=True)\n",
    "df_test.drop(['Name', 'Ticket', 'PassengerId', 'SibSp'], axis=1, inplace=True)"
   ]
  },
  {
   "attachments": {},
   "cell_type": "markdown",
   "metadata": {},
   "source": [
    "Here, we see that there is a high relation between the attribute 'Embarked' and whether a person survived or not. Therefore, this will also be a useful attribute going forward."
   ]
  },
  {
   "cell_type": "code",
   "execution_count": 13,
   "metadata": {},
   "outputs": [
    {
     "data": {
      "text/plain": [
       "Survived      0\n",
       "Pclass        0\n",
       "Sex           0\n",
       "Age         177\n",
       "Parch         0\n",
       "Fare          0\n",
       "Cabin       687\n",
       "Embarked      2\n",
       "dtype: int64"
      ]
     },
     "execution_count": 13,
     "metadata": {},
     "output_type": "execute_result"
    }
   ],
   "source": [
    "df.isnull().sum()"
   ]
  },
  {
   "cell_type": "code",
   "execution_count": 14,
   "metadata": {},
   "outputs": [
    {
     "data": {
      "text/plain": [
       "Pclass        0\n",
       "Sex           0\n",
       "Age          86\n",
       "Parch         0\n",
       "Fare          1\n",
       "Cabin       327\n",
       "Embarked      0\n",
       "dtype: int64"
      ]
     },
     "execution_count": 14,
     "metadata": {},
     "output_type": "execute_result"
    }
   ],
   "source": [
    "df_test.isnull().sum()"
   ]
  },
  {
   "attachments": {},
   "cell_type": "markdown",
   "metadata": {},
   "source": [
    "Since the cabin column has a lot of missing values, we can simply drop it.\n",
    "As for the columns 'Age' and 'Embarked', we can fill them in with the median values.\n",
    "<br>\n",
    "For the test data, we can fill in the missing Fare value with the fare median."
   ]
  },
  {
   "cell_type": "code",
   "execution_count": 15,
   "metadata": {},
   "outputs": [],
   "source": [
    "df.drop(['Cabin'], axis=1, inplace=True)\n",
    "df_test.drop(['Cabin'], axis=1, inplace=True)"
   ]
  },
  {
   "cell_type": "code",
   "execution_count": 16,
   "metadata": {},
   "outputs": [
    {
     "data": {
      "text/plain": [
       "Embarked\n",
       "S    644\n",
       "C    168\n",
       "Q     77\n",
       "Name: count, dtype: int64"
      ]
     },
     "execution_count": 16,
     "metadata": {},
     "output_type": "execute_result"
    }
   ],
   "source": [
    "df['Age'] = df['Age'].fillna(df['Age'].median())\n",
    "df_test['Age'] = df_test['Age'].fillna(df_test['Age'].median())\n",
    "df_test['Fare'] = df_test['Fare'].fillna(df_test['Fare'].median())\n",
    "df['Embarked'].value_counts()"
   ]
  },
  {
   "attachments": {},
   "cell_type": "markdown",
   "metadata": {},
   "source": [
    "Since the most frequent value for 'Embarked' is 'S', we can fill in the missing values with the same."
   ]
  },
  {
   "cell_type": "code",
   "execution_count": 17,
   "metadata": {},
   "outputs": [],
   "source": [
    "df['Embarked'] = df['Embarked'].fillna('S')\n",
    "df_test['Embarked'] = df_test['Embarked'].fillna('S')"
   ]
  },
  {
   "attachments": {},
   "cell_type": "markdown",
   "metadata": {},
   "source": [
    "#### One-hot encoding"
   ]
  },
  {
   "cell_type": "code",
   "execution_count": 18,
   "metadata": {},
   "outputs": [],
   "source": [
    "for temp in [df, df_test]:\n",
    "    temp.loc[(temp['Sex'] == \"male\"), 'Sex'] = 1\n",
    "    temp.loc[(temp['Sex'] == \"female\"), 'Sex'] = 2\n",
    "    temp['Sex'] = temp['Sex'].astype(int)"
   ]
  },
  {
   "cell_type": "code",
   "execution_count": 19,
   "metadata": {},
   "outputs": [],
   "source": [
    "for temp in [df, df_test]:\n",
    "    temp.loc[(temp['Embarked'] == \"C\"), 'Embarked'] = 1\n",
    "    temp.loc[(temp['Embarked'] == \"Q\"), 'Embarked'] = 2\n",
    "    temp.loc[(temp['Embarked'] == \"S\"), 'Embarked'] = 3\n",
    "    temp['Embarked'] = temp['Embarked'].astype(int)"
   ]
  },
  {
   "cell_type": "code",
   "execution_count": 20,
   "metadata": {},
   "outputs": [
    {
     "name": "stdout",
     "output_type": "stream",
     "text": [
      "min age = 0.42\n",
      "max age = 80.0\n",
      "min fare = 0.0\n",
      "max fare = 512.3292\n"
     ]
    }
   ],
   "source": [
    "print(f\"min age = {df['Age'].min()}\\nmax age = {df['Age'].max()}\")\n",
    "print(f\"min fare = {df['Fare'].min()}\\nmax fare = {df['Fare'].max()}\")"
   ]
  },
  {
   "cell_type": "code",
   "execution_count": 21,
   "metadata": {},
   "outputs": [],
   "source": [
    "for temp in [df, df_test]:\n",
    "    temp.loc[(temp['Age'] > 0) & (temp['Age'] <= 20), 'Age'] = 1\n",
    "    temp.loc[(temp['Age'] > 20) & (temp['Age'] <= 40), 'Age'] = 2\n",
    "    temp.loc[(temp['Age'] > 40) & (temp['Age'] <= 60), 'Age'] = 3\n",
    "    temp.loc[(temp['Age'] > 60) & (temp['Age'] <= 80), 'Age'] = 4\n",
    "    temp['Age'] = temp['Age'].astype(int)"
   ]
  },
  {
   "cell_type": "code",
   "execution_count": 22,
   "metadata": {},
   "outputs": [],
   "source": [
    "for temp in [df, df_test]:\n",
    "    temp.loc[(temp['Fare'] >= 0) & (temp['Fare'] <= 100), 'Fare'] = 1\n",
    "    temp.loc[(temp['Fare'] > 100) & (temp['Fare'] <= 200), 'Fare'] = 2\n",
    "    temp.loc[(temp['Fare'] > 200) & (temp['Fare'] <= 300), 'Fare'] = 3\n",
    "    temp.loc[(temp['Fare'] > 300) & (temp['Fare'] <= 400), 'Fare'] = 4\n",
    "    temp.loc[(temp['Fare'] > 400) & (temp['Fare'] <= 500), 'Fare'] = 5\n",
    "    temp.loc[(temp['Fare'] > 500) & (temp['Fare'] <= 600), 'Fare'] = 6\n",
    "    temp['Fare'] = temp['Fare'].astype(int)\n",
    "    # for fare in temp['Fare']:"
   ]
  },
  {
   "cell_type": "code",
   "execution_count": 23,
   "metadata": {},
   "outputs": [
    {
     "name": "stdout",
     "output_type": "stream",
     "text": [
      "   Survived  Pclass  Sex  Age  Parch  Fare  Embarked\n",
      "0         0       3    1    2      0     1         3\n",
      "1         1       1    2    2      0     1         1\n",
      "2         1       3    2    2      0     1         3\n",
      "3         1       1    2    2      0     1         3\n",
      "4         0       3    1    2      0     1         3\n",
      "   Pclass  Sex  Age  Parch  Fare  Embarked\n",
      "0       3    1    2      0     1         2\n",
      "1       3    2    3      0     1         3\n",
      "2       2    1    4      0     1         2\n",
      "3       3    1    2      0     1         3\n",
      "4       3    2    2      1     1         3\n"
     ]
    }
   ],
   "source": [
    "print(df.head())\n",
    "print(df_test.head())"
   ]
  },
  {
   "attachments": {},
   "cell_type": "markdown",
   "metadata": {},
   "source": [
    "Now, we are ready to train and test our models."
   ]
  },
  {
   "cell_type": "code",
   "execution_count": 24,
   "metadata": {},
   "outputs": [],
   "source": [
    "y = df['Survived']\n",
    "X = df.drop(['Survived'], axis=1)"
   ]
  },
  {
   "attachments": {},
   "cell_type": "markdown",
   "metadata": {},
   "source": [
    "#### Splitting the data into train and test"
   ]
  },
  {
   "cell_type": "code",
   "execution_count": 27,
   "metadata": {},
   "outputs": [],
   "source": [
    "X_train, X_test, y_train, y_test = train_test_split(X, y, test_size = 0.05, random_state = 0)"
   ]
  },
  {
   "cell_type": "code",
   "execution_count": 28,
   "metadata": {},
   "outputs": [],
   "source": [
    "naive_bayes = NaiveBayesClassifier()\n",
    "naive_bayes.fit(X_train, y_train)"
   ]
  },
  {
   "cell_type": "code",
   "execution_count": 29,
   "metadata": {},
   "outputs": [],
   "source": [
    "naive_bayes.predict(X_test)"
   ]
  },
  {
   "cell_type": "code",
   "execution_count": 30,
   "metadata": {},
   "outputs": [
    {
     "data": {
      "text/plain": [
       "0.8222222222222222"
      ]
     },
     "execution_count": 30,
     "metadata": {},
     "output_type": "execute_result"
    }
   ],
   "source": [
    "naive_bayes.accuracy(y_test)"
   ]
  },
  {
   "cell_type": "code",
   "execution_count": 41,
   "metadata": {},
   "outputs": [],
   "source": [
    "knn = knnClassifier()\n",
    "knn.fit(X_train, y_train)"
   ]
  },
  {
   "cell_type": "code",
   "execution_count": 42,
   "metadata": {},
   "outputs": [
    {
     "name": "stderr",
     "output_type": "stream",
     "text": [
      "/tmp/ipykernel_12531/859722739.py:20: FutureWarning: Unlike other reduction functions (e.g. `skew`, `kurtosis`), the default behavior of `mode` typically preserves the axis it acts along. In SciPy 1.11.0, this behavior will change: the default value of `keepdims` will become False, the `axis` over which the statistic is taken will be eliminated, and the value None will no longer be accepted. Set `keepdims` to True or False to avoid this warning.\n",
      "  voting = mode(labels).mode[0]\n"
     ]
    }
   ],
   "source": [
    "knn.predict(X_test);"
   ]
  },
  {
   "cell_type": "code",
   "execution_count": 43,
   "metadata": {},
   "outputs": [
    {
     "data": {
      "text/plain": [
       "0.7777777777777778"
      ]
     },
     "execution_count": 43,
     "metadata": {},
     "output_type": "execute_result"
    }
   ],
   "source": [
    "knn.accuracy(y_test)"
   ]
  }
 ],
 "metadata": {
  "kernelspec": {
   "display_name": "Python 3",
   "language": "python",
   "name": "python3"
  },
  "language_info": {
   "codemirror_mode": {
    "name": "ipython",
    "version": 3
   },
   "file_extension": ".py",
   "mimetype": "text/x-python",
   "name": "python",
   "nbconvert_exporter": "python",
   "pygments_lexer": "ipython3",
   "version": "3.9.2"
  },
  "orig_nbformat": 4
 },
 "nbformat": 4,
 "nbformat_minor": 2
}
